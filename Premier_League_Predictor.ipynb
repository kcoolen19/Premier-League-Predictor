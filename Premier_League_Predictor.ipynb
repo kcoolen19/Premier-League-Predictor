{
  "nbformat": 4,
  "nbformat_minor": 0,
  "metadata": {
    "colab": {
      "provenance": []
    },
    "kernelspec": {
      "name": "python3",
      "display_name": "Python 3"
    },
    "language_info": {
      "name": "python"
    }
  },
  "cells": [
    {
      "cell_type": "markdown",
      "source": [
        "**Premier League Predictor Model**"
      ],
      "metadata": {
        "id": "MvreGAgbpyVy"
      }
    },
    {
      "cell_type": "markdown",
      "source": [
        "**Import .csv files**\n",
        "\n",
        "The standings for the past 8 Premier League seasons will be loaded into Google Colab in the form of a .csv file."
      ],
      "metadata": {
        "id": "_vSpLNZqFlVh"
      }
    },
    {
      "cell_type": "code",
      "source": [
        "from google.colab import files\n",
        "uploaded = files.upload()"
      ],
      "metadata": {
        "colab": {
          "base_uri": "https://localhost:8080/",
          "height": 307
        },
        "id": "E6HUT6QOjegE",
        "outputId": "6f2e4e4e-4347-4899-ec5c-44021a30a330"
      },
      "execution_count": 1,
      "outputs": [
        {
          "output_type": "display_data",
          "data": {
            "text/plain": [
              "<IPython.core.display.HTML object>"
            ],
            "text/html": [
              "\n",
              "     <input type=\"file\" id=\"files-4928f561-fe78-40fa-976e-19ba332c0a89\" name=\"files[]\" multiple disabled\n",
              "        style=\"border:none\" />\n",
              "     <output id=\"result-4928f561-fe78-40fa-976e-19ba332c0a89\">\n",
              "      Upload widget is only available when the cell has been executed in the\n",
              "      current browser session. Please rerun this cell to enable.\n",
              "      </output>\n",
              "      <script>// Copyright 2017 Google LLC\n",
              "//\n",
              "// Licensed under the Apache License, Version 2.0 (the \"License\");\n",
              "// you may not use this file except in compliance with the License.\n",
              "// You may obtain a copy of the License at\n",
              "//\n",
              "//      http://www.apache.org/licenses/LICENSE-2.0\n",
              "//\n",
              "// Unless required by applicable law or agreed to in writing, software\n",
              "// distributed under the License is distributed on an \"AS IS\" BASIS,\n",
              "// WITHOUT WARRANTIES OR CONDITIONS OF ANY KIND, either express or implied.\n",
              "// See the License for the specific language governing permissions and\n",
              "// limitations under the License.\n",
              "\n",
              "/**\n",
              " * @fileoverview Helpers for google.colab Python module.\n",
              " */\n",
              "(function(scope) {\n",
              "function span(text, styleAttributes = {}) {\n",
              "  const element = document.createElement('span');\n",
              "  element.textContent = text;\n",
              "  for (const key of Object.keys(styleAttributes)) {\n",
              "    element.style[key] = styleAttributes[key];\n",
              "  }\n",
              "  return element;\n",
              "}\n",
              "\n",
              "// Max number of bytes which will be uploaded at a time.\n",
              "const MAX_PAYLOAD_SIZE = 100 * 1024;\n",
              "\n",
              "function _uploadFiles(inputId, outputId) {\n",
              "  const steps = uploadFilesStep(inputId, outputId);\n",
              "  const outputElement = document.getElementById(outputId);\n",
              "  // Cache steps on the outputElement to make it available for the next call\n",
              "  // to uploadFilesContinue from Python.\n",
              "  outputElement.steps = steps;\n",
              "\n",
              "  return _uploadFilesContinue(outputId);\n",
              "}\n",
              "\n",
              "// This is roughly an async generator (not supported in the browser yet),\n",
              "// where there are multiple asynchronous steps and the Python side is going\n",
              "// to poll for completion of each step.\n",
              "// This uses a Promise to block the python side on completion of each step,\n",
              "// then passes the result of the previous step as the input to the next step.\n",
              "function _uploadFilesContinue(outputId) {\n",
              "  const outputElement = document.getElementById(outputId);\n",
              "  const steps = outputElement.steps;\n",
              "\n",
              "  const next = steps.next(outputElement.lastPromiseValue);\n",
              "  return Promise.resolve(next.value.promise).then((value) => {\n",
              "    // Cache the last promise value to make it available to the next\n",
              "    // step of the generator.\n",
              "    outputElement.lastPromiseValue = value;\n",
              "    return next.value.response;\n",
              "  });\n",
              "}\n",
              "\n",
              "/**\n",
              " * Generator function which is called between each async step of the upload\n",
              " * process.\n",
              " * @param {string} inputId Element ID of the input file picker element.\n",
              " * @param {string} outputId Element ID of the output display.\n",
              " * @return {!Iterable<!Object>} Iterable of next steps.\n",
              " */\n",
              "function* uploadFilesStep(inputId, outputId) {\n",
              "  const inputElement = document.getElementById(inputId);\n",
              "  inputElement.disabled = false;\n",
              "\n",
              "  const outputElement = document.getElementById(outputId);\n",
              "  outputElement.innerHTML = '';\n",
              "\n",
              "  const pickedPromise = new Promise((resolve) => {\n",
              "    inputElement.addEventListener('change', (e) => {\n",
              "      resolve(e.target.files);\n",
              "    });\n",
              "  });\n",
              "\n",
              "  const cancel = document.createElement('button');\n",
              "  inputElement.parentElement.appendChild(cancel);\n",
              "  cancel.textContent = 'Cancel upload';\n",
              "  const cancelPromise = new Promise((resolve) => {\n",
              "    cancel.onclick = () => {\n",
              "      resolve(null);\n",
              "    };\n",
              "  });\n",
              "\n",
              "  // Wait for the user to pick the files.\n",
              "  const files = yield {\n",
              "    promise: Promise.race([pickedPromise, cancelPromise]),\n",
              "    response: {\n",
              "      action: 'starting',\n",
              "    }\n",
              "  };\n",
              "\n",
              "  cancel.remove();\n",
              "\n",
              "  // Disable the input element since further picks are not allowed.\n",
              "  inputElement.disabled = true;\n",
              "\n",
              "  if (!files) {\n",
              "    return {\n",
              "      response: {\n",
              "        action: 'complete',\n",
              "      }\n",
              "    };\n",
              "  }\n",
              "\n",
              "  for (const file of files) {\n",
              "    const li = document.createElement('li');\n",
              "    li.append(span(file.name, {fontWeight: 'bold'}));\n",
              "    li.append(span(\n",
              "        `(${file.type || 'n/a'}) - ${file.size} bytes, ` +\n",
              "        `last modified: ${\n",
              "            file.lastModifiedDate ? file.lastModifiedDate.toLocaleDateString() :\n",
              "                                    'n/a'} - `));\n",
              "    const percent = span('0% done');\n",
              "    li.appendChild(percent);\n",
              "\n",
              "    outputElement.appendChild(li);\n",
              "\n",
              "    const fileDataPromise = new Promise((resolve) => {\n",
              "      const reader = new FileReader();\n",
              "      reader.onload = (e) => {\n",
              "        resolve(e.target.result);\n",
              "      };\n",
              "      reader.readAsArrayBuffer(file);\n",
              "    });\n",
              "    // Wait for the data to be ready.\n",
              "    let fileData = yield {\n",
              "      promise: fileDataPromise,\n",
              "      response: {\n",
              "        action: 'continue',\n",
              "      }\n",
              "    };\n",
              "\n",
              "    // Use a chunked sending to avoid message size limits. See b/62115660.\n",
              "    let position = 0;\n",
              "    do {\n",
              "      const length = Math.min(fileData.byteLength - position, MAX_PAYLOAD_SIZE);\n",
              "      const chunk = new Uint8Array(fileData, position, length);\n",
              "      position += length;\n",
              "\n",
              "      const base64 = btoa(String.fromCharCode.apply(null, chunk));\n",
              "      yield {\n",
              "        response: {\n",
              "          action: 'append',\n",
              "          file: file.name,\n",
              "          data: base64,\n",
              "        },\n",
              "      };\n",
              "\n",
              "      let percentDone = fileData.byteLength === 0 ?\n",
              "          100 :\n",
              "          Math.round((position / fileData.byteLength) * 100);\n",
              "      percent.textContent = `${percentDone}% done`;\n",
              "\n",
              "    } while (position < fileData.byteLength);\n",
              "  }\n",
              "\n",
              "  // All done.\n",
              "  yield {\n",
              "    response: {\n",
              "      action: 'complete',\n",
              "    }\n",
              "  };\n",
              "}\n",
              "\n",
              "scope.google = scope.google || {};\n",
              "scope.google.colab = scope.google.colab || {};\n",
              "scope.google.colab._files = {\n",
              "  _uploadFiles,\n",
              "  _uploadFilesContinue,\n",
              "};\n",
              "})(self);\n",
              "</script> "
            ]
          },
          "metadata": {}
        },
        {
          "output_type": "stream",
          "name": "stdout",
          "text": [
            "Saving Premier_League_2016_2017.csv to Premier_League_2016_2017.csv\n",
            "Saving Premier_League_2017_2018.csv to Premier_League_2017_2018.csv\n",
            "Saving Premier_League_2018_2019.csv to Premier_League_2018_2019.csv\n",
            "Saving Premier_League_2019_2020.csv to Premier_League_2019_2020.csv\n",
            "Saving Premier_League_2020_2021.csv to Premier_League_2020_2021.csv\n",
            "Saving Premier_League_2021_2022.csv to Premier_League_2021_2022.csv\n",
            "Saving Premier_League_2022_2023.csv to Premier_League_2022_2023.csv\n",
            "Saving Premier_League_2023_2024.csv to Premier_League_2023_2024.csv\n"
          ]
        }
      ]
    },
    {
      "cell_type": "markdown",
      "source": [
        "**Loading Datasets**\n",
        "\n",
        "The individual .csv files will be named with respect to the season it belongs to. All the .csv files will be combined into one file at the end."
      ],
      "metadata": {
        "id": "yyPwa-3iGFxA"
      }
    },
    {
      "cell_type": "code",
      "source": [
        "import pandas as pd\n",
        "\n",
        "# Load each season's dataset\n",
        "df_16_17 = pd.read_csv('Premier_League_2016_2017.csv')\n",
        "df_17_18 = pd.read_csv('Premier_League_2017_2018.csv')\n",
        "df_18_19 = pd.read_csv('Premier_League_2018_2019.csv')\n",
        "df_19_20 = pd.read_csv('Premier_League_2019_2020.csv')\n",
        "df_20_21 = pd.read_csv('Premier_League_2020_2021.csv')\n",
        "df_21_22 = pd.read_csv('Premier_League_2021_2022.csv')\n",
        "df_22_23 = pd.read_csv('Premier_League_2022_2023.csv')\n",
        "df_23_24 = pd.read_csv('Premier_League_2023_2024.csv')\n",
        "\n",
        "# Combine all datasets\n",
        "df = pd.concat([\n",
        "    df_16_17, df_17_18, df_18_19, df_19_20,\n",
        "    df_20_21, df_21_22, df_22_23, df_23_24\n",
        "], ignore_index=True)\n",
        "df.to_csv('Combined_Premier_League_Standings.csv', index=False)\n"
      ],
      "metadata": {
        "id": "eYM03qVYlFCb",
        "collapsed": true
      },
      "execution_count": 2,
      "outputs": []
    },
    {
      "cell_type": "markdown",
      "source": [
        "**Feature defining**\n",
        "\n",
        "The different statistics will be defined as features that will be used as data for training. The prediction feature will be the points. The teams concerned will be stored in a list."
      ],
      "metadata": {
        "id": "JfxvusF9G3zH"
      }
    },
    {
      "cell_type": "code",
      "source": [
        "import pandas as pd\n",
        "from sklearn.linear_model import LinearRegression\n",
        "\n",
        "# Define features and target for the model\n",
        "features = [\n",
        "    'Win', 'Draw', 'Loss', 'Goals Scored', 'Goals Conceded',\n",
        "    'Goal Difference', 'Expected Goals Scored', 'Expected Goals Conceded',\n",
        "    'Expected Goal Difference'\n",
        "]\n",
        "target = 'Points'\n",
        "\n",
        "# Teams to predict\n",
        "teams_to_predict = ['Arsenal', 'Aston Villa', 'Bournemouth', 'Brentford', 'Brighton & Hove Albion', 'Chelsea', 'Crystal Palace',\n",
        "                    'Everton', 'Fulham', 'Ipswich', 'Leicester City', 'Liverpool', 'Manchester City', 'Manchester United',\n",
        "                    'Newcastle United', 'Nottingham Forest', 'Southampton', 'Tottenham', 'West Ham', 'Wolves']\n"
      ],
      "metadata": {
        "id": "Wco8LVUCl5Zw"
      },
      "execution_count": null,
      "outputs": []
    },
    {
      "cell_type": "markdown",
      "source": [
        "**Model Training**\n",
        "\n",
        "The X variable will be the list of statistics stored in the variable features. The y variable is the number of points that a team is predicted to obtain.\n",
        "The model is trained based on the above factors."
      ],
      "metadata": {
        "id": "7APGpMZ4HnW1"
      }
    },
    {
      "cell_type": "code",
      "source": [
        "# Preparing training data\n",
        "df_train = df[~df['Team'].isin(teams_to_predict)]\n",
        "X_train = df_train[features]\n",
        "y_train = df_train[target]\n",
        "\n",
        "# Train the model\n",
        "model = LinearRegression()\n",
        "model.fit(X_train, y_train)"
      ],
      "metadata": {
        "id": "RJakJtqMEb3x"
      },
      "execution_count": null,
      "outputs": []
    },
    {
      "cell_type": "markdown",
      "source": [
        "**Predictions**\n",
        "\n",
        "The points of the teams present in the list obtain their points predictions for the upcoming season. The results are printed with the team expected to obtain the highest number of points at the top of the list."
      ],
      "metadata": {
        "id": "OgfRcF54IYDh"
      }
    },
    {
      "cell_type": "code",
      "source": [
        "# Aggregate past data to generate input for new predictions\n",
        "df_predict = (\n",
        "    df[df['Team'].isin(teams_to_predict)]\n",
        "    .groupby('Team', as_index=False)[features]\n",
        "    .mean()\n",
        ")\n",
        "\n",
        "# Predict points for the new season\n",
        "df_predict['Predicted_Points'] = model.predict(df_predict[features])\n",
        "\n",
        "# Display results sorted by predicted points in descending order\n",
        "results = df_predict[['Team', 'Predicted_Points']].sort_values(by='Predicted_Points', ascending=False)\n",
        "\n",
        "print(\"Predicted Points for the New Season:\")\n",
        "print(results)"
      ],
      "metadata": {
        "id": "i3bYX9NIEoae"
      },
      "execution_count": null,
      "outputs": []
    }
  ]
}